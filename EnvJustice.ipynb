{
 "cells": [
  {
   "cell_type": "markdown",
   "id": "fc633beb",
   "metadata": {},
   "source": [
    "# Environmental Justice --- exploring the data behind [Cal Enviro Screen](https://oehha.ca.gov/calenviroscreen)\n",
    "\n",
    "The California Office of Health Hazard Assessment has put together a tool that assigns scores to areas in the state based on various indicators and proximity to various environmental hazards. The indicators and formula are illustrated in a [fact sheet](https://oehha.ca.gov/media/downloads/calenviroscreen/fact-sheet/ces30factsheetfinal.pdf) and summarized here:\n",
    "     <img width=\"220\" src=\"calscreen.png\">\n",
    "\n",
    "The purpose of this notebook is to illustrate using python to explore the data behind this tool to evaluate correlation between various indicators and responses, and also to explore the combination of spatial and tabluar data. \n",
    "\n",
    "The objectives on the technical side are to:\n",
    " * Read in a shapefile and plot it\n",
    " * Read in the Excel sheets\n",
    " * Associate the geometry of the tracts with all the data\n",
    " * Make a function to calculate pearson’s r between predictors (demographics) and responses (either pollution sources or illness)\n",
    " * Make a larger function to make a heatmap of predictor and responses and a scatter plot with a line fit and pearson’s r\n",
    " * Loop over all predictors and responses to make a big pdf with a plot of each predictor vs each response on each page"
   ]
  },
  {
   "cell_type": "markdown",
   "id": "3c0c5bf8",
   "metadata": {},
   "source": [
    "## first we need to import some tools"
   ]
  },
  {
   "cell_type": "code",
   "execution_count": null,
   "id": "western-america",
   "metadata": {},
   "outputs": [],
   "source": [
    "import matplotlib.pyplot as plt  # most popular plotting package in python\n",
    "import numpy as np               # numerical package we will need for pearsons r\n",
    "import pandas as pd              # pandas for tabular data\n",
    "import geopandas as gp           # geopandas - similar to pandas but works with GIS\n",
    "from matplotlib.backends.backend_pdf import PdfPages"
   ]
  },
  {
   "cell_type": "markdown",
   "id": "forward-burlington",
   "metadata": {},
   "source": [
    "# read in the excel file into pandas\n",
    "## note that we can read separate sheets separately. Also, saying `index_col=0` uses the 0th column as the index (which is census tract)"
   ]
  },
  {
   "cell_type": "code",
   "execution_count": null,
   "id": "loved-adolescent",
   "metadata": {},
   "outputs": [],
   "source": [
    "df_pollution = pd.read_excel('social/ces3results.xlsx', sheet_name=('CES 3.0 (2018 Update)'), index_col=0)\n",
    "df_demog = pd.read_excel('social/ces3results.xlsx', sheet_name=('Demographic profile'), index_col=0,\n",
    "                        skiprows=1) # note skiprows=1 for deomgraphics -- see spreadsheet for reason why"
   ]
  },
  {
   "cell_type": "code",
   "execution_count": null,
   "id": "frozen-stopping",
   "metadata": {},
   "outputs": [],
   "source": [
    "df_demog.head()"
   ]
  },
  {
   "cell_type": "markdown",
   "id": "other-digest",
   "metadata": {},
   "source": [
    "# now read in spatial data with geopandas\n",
    "## this also is read in as a dataframe but with some special geospatial metadata and a `geometry` that contains a `shapely` geometry object (Point, Polygon, etc.) for each row"
   ]
  },
  {
   "cell_type": "code",
   "execution_count": null,
   "id": "informational-contemporary",
   "metadata": {},
   "outputs": [],
   "source": [
    "gdf = gp.read_file('social/CESJune2018Update_SHP/CES3June2018Update.shp', index_col=0)"
   ]
  },
  {
   "cell_type": "code",
   "execution_count": null,
   "id": "selected-zealand",
   "metadata": {},
   "outputs": [],
   "source": [
    "gdf.index = gdf.tract\n",
    "gdf"
   ]
  },
  {
   "cell_type": "markdown",
   "id": "9938506f",
   "metadata": {},
   "source": [
    "## plotting is built in!"
   ]
  },
  {
   "cell_type": "code",
   "execution_count": null,
   "id": "2fb3b234",
   "metadata": {},
   "outputs": [],
   "source": [
    "gdf.plot()"
   ]
  },
  {
   "cell_type": "markdown",
   "id": "f9b2ba87",
   "metadata": {},
   "source": [
    "## we can focus in on the Bay area and clean up axes"
   ]
  },
  {
   "cell_type": "code",
   "execution_count": null,
   "id": "c5b1d89a",
   "metadata": {},
   "outputs": [],
   "source": [
    "gdf.plot()\n",
    "plt.xlim([-300000, -150000])\n",
    "plt.ylim([-90000, 50000])\n",
    "plt.axis('off')"
   ]
  },
  {
   "cell_type": "markdown",
   "id": "5cfa6bf1",
   "metadata": {},
   "source": [
    "## geodataframes include data about coordinate reference system"
   ]
  },
  {
   "cell_type": "code",
   "execution_count": null,
   "id": "0be6a24f",
   "metadata": {},
   "outputs": [],
   "source": [
    "gdf.crs"
   ]
  },
  {
   "cell_type": "markdown",
   "id": "dc141cdd",
   "metadata": {},
   "source": [
    "## other kinds of plots are possible as well"
   ]
  },
  {
   "cell_type": "code",
   "execution_count": null,
   "id": "6793f86c",
   "metadata": {},
   "outputs": [],
   "source": [
    "gdf['drink'].plot( kind='hist')"
   ]
  },
  {
   "cell_type": "markdown",
   "id": "9af80715",
   "metadata": {},
   "source": [
    "## specifying a column name means make a colorflood/heatmap of those data"
   ]
  },
  {
   "cell_type": "code",
   "execution_count": null,
   "id": "285b8296",
   "metadata": {},
   "outputs": [],
   "source": [
    "gdf.plot(column='drink', legend=True, rasterized=True)\n",
    "plt.xlim([-300000, -150000])\n",
    "plt.ylim([-90000, 50000])\n",
    "plt.axis('off')"
   ]
  },
  {
   "cell_type": "markdown",
   "id": "roman-chapel",
   "metadata": {},
   "source": [
    "# make sure they have the same index entries, based on census districts"
   ]
  },
  {
   "cell_type": "code",
   "execution_count": null,
   "id": "hidden-mirror",
   "metadata": {},
   "outputs": [],
   "source": [
    "assert sorted(gdf.index) == sorted(df_demog.index)"
   ]
  },
  {
   "cell_type": "code",
   "execution_count": null,
   "id": "b0803a03",
   "metadata": {},
   "outputs": [],
   "source": [
    "assert sorted(gdf.index) == sorted(df_pollution.index)"
   ]
  },
  {
   "cell_type": "markdown",
   "id": "rubber-kansas",
   "metadata": {},
   "source": [
    "# now some data munging"
   ]
  },
  {
   "cell_type": "markdown",
   "id": "36926d81",
   "metadata": {},
   "source": [
    "### some of the column names are truncated due to shapefiles being an archaic format!"
   ]
  },
  {
   "cell_type": "code",
   "execution_count": null,
   "id": "addressed-model",
   "metadata": {},
   "outputs": [],
   "source": [
    "gdf.columns.values"
   ]
  },
  {
   "cell_type": "markdown",
   "id": "595b2aae",
   "metadata": {},
   "source": [
    "### but there is a raft of good information in the Excel files"
   ]
  },
  {
   "cell_type": "code",
   "execution_count": null,
   "id": "macro-sewing",
   "metadata": {},
   "outputs": [],
   "source": [
    "df_demog.columns"
   ]
  },
  {
   "cell_type": "code",
   "execution_count": null,
   "id": "french-salvation",
   "metadata": {},
   "outputs": [],
   "source": [
    "df_pollution.columns"
   ]
  },
  {
   "cell_type": "markdown",
   "id": "1936640a",
   "metadata": {},
   "source": [
    "### assemble a list of predictors"
   ]
  },
  {
   "cell_type": "code",
   "execution_count": null,
   "id": "technological-annotation",
   "metadata": {},
   "outputs": [],
   "source": [
    "preds = []\n",
    "for c in df_demog.columns:\n",
    "    if '%' in c and 'Other' not in c:\n",
    "        preds.append(c)\n",
    "preds"
   ]
  },
  {
   "cell_type": "code",
   "execution_count": null,
   "id": "olive-humidity",
   "metadata": {},
   "outputs": [],
   "source": [
    "preds_ext = []\n",
    "preds_ext.extend(['Education',\n",
    "       'Linguistic Isolation',\n",
    "       'Poverty', 'Unemployment'])\n",
    "preds_ext"
   ]
  },
  {
   "cell_type": "markdown",
   "id": "4ebe7294",
   "metadata": {},
   "source": [
    "### subset a few columns "
   ]
  },
  {
   "cell_type": "code",
   "execution_count": null,
   "id": "sacred-corrections",
   "metadata": {},
   "outputs": [],
   "source": [
    "pollution = ['Ozone',\n",
    "       'PM2.5','Diesel PM', \n",
    "       'Drinking Water', 'Pesticides',\n",
    "       'Tox. Release',  'Traffic',\n",
    "        'Cleanup Sites',\n",
    "       'Groundwater Threats', 'Haz. Waste',\n",
    "        'Imp. Water Bodies',\n",
    "       'Solid Waste',  'Pollution Burden',\n",
    "       'Pollution Burden Score']\n",
    "illness = ['Asthma', 'Low Birth Weight', 'Cardiovascular Disease']"
   ]
  },
  {
   "cell_type": "markdown",
   "id": "d51e6c49",
   "metadata": {},
   "source": [
    "## now some merging to pull data together with the shapefile geometry using `join`\n",
    "\n",
    "### start out by only keeping 'geometry' column  from gdf and bringing in predictors"
   ]
  },
  {
   "cell_type": "code",
   "execution_count": null,
   "id": "angry-notice",
   "metadata": {},
   "outputs": [],
   "source": [
    "gdf  =gdf.join(df_demog[preds])[preds + ['geometry']] \n"
   ]
  },
  {
   "cell_type": "markdown",
   "id": "aa98eebc",
   "metadata": {},
   "source": [
    "### what did that leave us with?"
   ]
  },
  {
   "cell_type": "code",
   "execution_count": null,
   "id": "built-array",
   "metadata": {},
   "outputs": [],
   "source": [
    "gdf.head()"
   ]
  },
  {
   "cell_type": "markdown",
   "id": "86d7edea",
   "metadata": {},
   "source": [
    "## let's bring in the other indicators we called `pred_ext`"
   ]
  },
  {
   "cell_type": "code",
   "execution_count": null,
   "id": "renewable-invasion",
   "metadata": {},
   "outputs": [],
   "source": [
    "gdf = gdf.join(df_pollution[preds_ext])"
   ]
  },
  {
   "cell_type": "code",
   "execution_count": null,
   "id": "7cdd68e8",
   "metadata": {},
   "outputs": [],
   "source": [
    "gdf.columns"
   ]
  },
  {
   "cell_type": "markdown",
   "id": "0ba0d0df",
   "metadata": {},
   "source": [
    "###  we can bring in the indicators of pollution"
   ]
  },
  {
   "cell_type": "code",
   "execution_count": null,
   "id": "progressive-bowling",
   "metadata": {},
   "outputs": [],
   "source": [
    "gdf = gdf.join(df_pollution[pollution])"
   ]
  },
  {
   "cell_type": "code",
   "execution_count": null,
   "id": "banner-failing",
   "metadata": {},
   "outputs": [],
   "source": [
    "gdf.columns.values"
   ]
  },
  {
   "cell_type": "markdown",
   "id": "6d15719e",
   "metadata": {},
   "source": [
    "### finally we bring in the illnesses"
   ]
  },
  {
   "cell_type": "code",
   "execution_count": null,
   "id": "eight-greek",
   "metadata": {},
   "outputs": [],
   "source": [
    "gdf = gdf.join(df_pollution[illness])"
   ]
  },
  {
   "cell_type": "code",
   "execution_count": null,
   "id": "328d9082",
   "metadata": {},
   "outputs": [],
   "source": [
    "gdf.columns.values"
   ]
  },
  {
   "cell_type": "code",
   "execution_count": null,
   "id": "afraid-intake",
   "metadata": {},
   "outputs": [],
   "source": [
    "from EJ_helpers import find_correlations"
   ]
  },
  {
   "cell_type": "code",
   "execution_count": null,
   "id": "rapid-scholarship",
   "metadata": {},
   "outputs": [],
   "source": [
    "pollutioncorrs = pd.DataFrame(index=pollution)\n",
    "for pred in preds:\n",
    "    pollutioncorrs[pred] = find_correlations(pred,pollution, gdf)\n",
    "    \n",
    "illnesscorrs = pd.DataFrame(index=illness)\n",
    "for pred in preds:\n",
    "    illnesscorrs[pred] = find_correlations(pred,illness, gdf)\n",
    "    \n",
    "    "
   ]
  },
  {
   "cell_type": "code",
   "execution_count": null,
   "id": "invisible-singapore",
   "metadata": {},
   "outputs": [],
   "source": [
    "pollutioncorrs.plot.bar(figsize=(10,10), subplots=True, legend=False, grid=True)\n",
    "plt.tight_layout()"
   ]
  },
  {
   "cell_type": "code",
   "execution_count": null,
   "id": "female-shark",
   "metadata": {},
   "outputs": [],
   "source": [
    "illnesscorrs.plot.bar(figsize=(10,10), subplots=True, legend=False, grid=True)\n",
    "plt.tight_layout()"
   ]
  },
  {
   "cell_type": "code",
   "execution_count": null,
   "id": "innocent-aggregate",
   "metadata": {},
   "outputs": [],
   "source": [
    "from EJ_helpers import plot_relation"
   ]
  },
  {
   "cell_type": "code",
   "execution_count": null,
   "id": "1184fda3",
   "metadata": {},
   "outputs": [],
   "source": [
    "plot_relation(gdf, 'African American (%)', 'Asthma')"
   ]
  },
  {
   "cell_type": "code",
   "execution_count": null,
   "id": "b1fa77d6",
   "metadata": {},
   "outputs": [],
   "source": [
    "plot_relation(gdf,'Hispanic (%)','PM2.5')"
   ]
  },
  {
   "cell_type": "code",
   "execution_count": null,
   "id": "5a1d01e7",
   "metadata": {},
   "outputs": [],
   "source": []
  },
  {
   "cell_type": "code",
   "execution_count": null,
   "id": "dd8dab85",
   "metadata": {},
   "outputs": [],
   "source": [
    "with PdfPages('all_plots.pdf') as outpdf:\n",
    "    for cpred in preds:\n",
    "        for cresp in pollution:\n",
    "            print (f'plotting {cpred} with {cresp}')\n",
    "            plot_relation(gdf, cpred, cresp, outpdf)\n",
    "        for cresp in illness:\n",
    "            print (f'plotting {cpred} with {cresp}')\n",
    "            plot_relation(gdf, cpred, cresp, outpdf)\n",
    "            "
   ]
  },
  {
   "cell_type": "code",
   "execution_count": null,
   "id": "c9963140",
   "metadata": {},
   "outputs": [],
   "source": []
  }
 ],
 "metadata": {
  "kernelspec": {
   "display_name": "Python 3",
   "language": "python",
   "name": "python3"
  },
  "language_info": {
   "codemirror_mode": {
    "name": "ipython",
    "version": 3
   },
   "file_extension": ".py",
   "mimetype": "text/x-python",
   "name": "python",
   "nbconvert_exporter": "python",
   "pygments_lexer": "ipython3",
   "version": "3.9.2"
  }
 },
 "nbformat": 4,
 "nbformat_minor": 5
}
